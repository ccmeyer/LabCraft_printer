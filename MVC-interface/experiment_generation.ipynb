{
 "cells": [
  {
   "cell_type": "code",
   "execution_count": 2,
   "metadata": {},
   "outputs": [],
   "source": [
    "import itertools\n",
    "import pandas as pd"
   ]
  },
  {
   "cell_type": "code",
   "execution_count": 5,
   "metadata": {},
   "outputs": [
    {
     "data": {
      "text/plain": [
       "{'A_2': [1, 2, 3],\n",
       " 'B_3': [4, 5, 6],\n",
       " 'C_4': [1, 4],\n",
       " 'D_5': [2, 5],\n",
       " 'E_6': [3, 6],\n",
       " 'F_7': [7, 8]}"
      ]
     },
     "execution_count": 5,
     "metadata": {},
     "output_type": "execute_result"
    }
   ],
   "source": [
    "reag_conc = {\n",
    "    'A_2': [1,2,3],\n",
    "    'B_3': [4,5,6],\n",
    "    'C_4': [1,4],\n",
    "    'D_5': [2,5],\n",
    "    'E_6': [3,6],\n",
    "    'F_7': [7,8],\n",
    "}\n",
    "reag_conc"
   ]
  },
  {
   "cell_type": "code",
   "execution_count": 7,
   "metadata": {},
   "outputs": [],
   "source": [
    "combinations = list(itertools.product(*reag_conc.values()))\n",
    "combinations_df = pd.DataFrame(combinations, columns=reag_conc.keys())\n",
    "combinations_df.reset_index().rename(columns={'index': 'reaction_id'}).to_csv('combinations.csv', index=False)\n"
   ]
  }
 ],
 "metadata": {
  "kernelspec": {
   "display_name": "env",
   "language": "python",
   "name": "python3"
  },
  "language_info": {
   "codemirror_mode": {
    "name": "ipython",
    "version": 3
   },
   "file_extension": ".py",
   "mimetype": "text/x-python",
   "name": "python",
   "nbconvert_exporter": "python",
   "pygments_lexer": "ipython3",
   "version": "3.12.3"
  }
 },
 "nbformat": 4,
 "nbformat_minor": 2
}
